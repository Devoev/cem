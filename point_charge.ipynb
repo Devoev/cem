{
 "cells": [
  {
   "cell_type": "code",
   "execution_count": 1,
   "id": "initial_id",
   "metadata": {
    "collapsed": true,
    "ExecuteTime": {
     "end_time": "2023-12-14T14:20:04.644734600Z",
     "start_time": "2023-12-14T14:20:04.185921600Z"
    }
   },
   "outputs": [],
   "source": [
    "import darkdetect\n",
    "import gmsh\n",
    "from matplotlib import pyplot as plt\n",
    "\n",
    "from util.gmsh_model import gmsh_model\n",
    "\n",
    "%load_ext autoreload\n",
    "%autoreload 2"
   ]
  },
  {
   "cell_type": "code",
   "execution_count": 2,
   "outputs": [],
   "source": [
    "## matplotlib settings\n",
    "if darkdetect.isDark():\n",
    "    plt.style.use('dark_background')\n",
    "else:\n",
    "    plt.style.use('default')\n",
    "\n",
    "plt.rcParams.update({\n",
    "    \"text.usetex\": True\n",
    "})"
   ],
   "metadata": {
    "collapsed": false,
    "ExecuteTime": {
     "end_time": "2023-12-14T14:20:04.697442500Z",
     "start_time": "2023-12-14T14:20:04.644734600Z"
    }
   },
   "id": "db8a33e6ef0ce7ec"
  },
  {
   "cell_type": "code",
   "execution_count": 10,
   "outputs": [],
   "source": [
    "## Generate mesh\n",
    "cad = gmsh.model.occ\n",
    "\n",
    "@gmsh_model(\"unit_square\", dim=2, finalize=True)\n",
    "def gen_unit_square():\n",
    "    p1 = cad.add_point(0, 0, 0)\n",
    "    p2 = cad.add_point(0, 1, 0)\n",
    "    p3 = cad.add_point(1, 1, 0)\n",
    "    p4 = cad.add_point(1, 0, 0)\n",
    "    l1 = cad.add_line(p1, p2)\n",
    "    l2 = cad.add_line(p2, p3)\n",
    "    l3 = cad.add_line(p3, p4)\n",
    "    l4 = cad.add_line(p4, p1)    \n",
    "    boundary = cad.add_curve_loop([l1,l2,l3,l4])\n",
    "    cad.add_plane_surface([boundary])\n",
    "    cad.synchronize()\n",
    "    \n",
    "    \n",
    "gen_unit_square()"
   ],
   "metadata": {
    "collapsed": false,
    "ExecuteTime": {
     "end_time": "2023-12-14T14:26:11.208705700Z",
     "start_time": "2023-12-14T14:25:57.312485300Z"
    }
   },
   "id": "57105dc6e23c1277"
  },
  {
   "cell_type": "code",
   "execution_count": null,
   "outputs": [],
   "source": [],
   "metadata": {
    "collapsed": false
   },
   "id": "fadfdb3442308778"
  }
 ],
 "metadata": {
  "kernelspec": {
   "display_name": "Python 3",
   "language": "python",
   "name": "python3"
  },
  "language_info": {
   "codemirror_mode": {
    "name": "ipython",
    "version": 2
   },
   "file_extension": ".py",
   "mimetype": "text/x-python",
   "name": "python",
   "nbconvert_exporter": "python",
   "pygments_lexer": "ipython2",
   "version": "2.7.6"
  }
 },
 "nbformat": 4,
 "nbformat_minor": 5
}
