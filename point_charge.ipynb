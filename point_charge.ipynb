{
 "cells": [
  {
   "cell_type": "code",
   "execution_count": 15,
   "id": "initial_id",
   "metadata": {
    "collapsed": true,
    "ExecuteTime": {
     "end_time": "2023-12-14T15:10:55.816174200Z",
     "start_time": "2023-12-14T15:10:55.756908700Z"
    }
   },
   "outputs": [
    {
     "name": "stdout",
     "output_type": "stream",
     "text": [
      "The autoreload extension is already loaded. To reload it, use:\n",
      "  %reload_ext autoreload\n"
     ]
    }
   ],
   "source": [
    "import darkdetect\n",
    "import gmsh\n",
    "import numpy as np\n",
    "import scipy.sparse as sp\n",
    "import scipy.sparse.linalg\n",
    "from matplotlib import pyplot as plt\n",
    "\n",
    "from fem.matrix.load_vector import load_node\n",
    "from fem.matrix.mass_matrix import mass_node\n",
    "from fem.matrix.stiffness_matrix import stiffness_node\n",
    "from fem.mesh.mesh_2d import make_mesh\n",
    "from util.gmsh_model import gmsh_model\n",
    "\n",
    "%load_ext autoreload\n",
    "%autoreload 2"
   ]
  },
  {
   "cell_type": "code",
   "execution_count": 16,
   "outputs": [],
   "source": [
    "## matplotlib settings\n",
    "if darkdetect.isDark():\n",
    "    plt.style.use('dark_background')\n",
    "else:\n",
    "    plt.style.use('default')\n",
    "\n",
    "plt.rcParams.update({\n",
    "    \"text.usetex\": True\n",
    "})"
   ],
   "metadata": {
    "collapsed": false,
    "ExecuteTime": {
     "end_time": "2023-12-14T15:10:55.868437900Z",
     "start_time": "2023-12-14T15:10:55.816174200Z"
    }
   },
   "id": "db8a33e6ef0ce7ec"
  },
  {
   "cell_type": "code",
   "execution_count": 17,
   "outputs": [],
   "source": [
    "## Generate mesh\n",
    "cad = gmsh.model.occ\n",
    "\n",
    "@gmsh_model(\"unit_square\", dim=2, finalize=False)\n",
    "def gen_unit_square():\n",
    "    p1 = cad.add_point(0, 0, 0)\n",
    "    p2 = cad.add_point(0, 1, 0)\n",
    "    p3 = cad.add_point(1, 1, 0)\n",
    "    p4 = cad.add_point(1, 0, 0)\n",
    "    l1 = cad.add_line(p1, p2)\n",
    "    l2 = cad.add_line(p2, p3)\n",
    "    l3 = cad.add_line(p3, p4)\n",
    "    l4 = cad.add_line(p4, p1)    \n",
    "    boundary = cad.add_curve_loop([l1,l2,l3,l4])\n",
    "    cad.add_plane_surface([boundary])\n",
    "    cad.synchronize()\n",
    "    \n",
    "    \n",
    "gen_unit_square()\n",
    "msh = make_mesh()"
   ],
   "metadata": {
    "collapsed": false,
    "ExecuteTime": {
     "end_time": "2023-12-14T15:10:57.036842200Z",
     "start_time": "2023-12-14T15:10:55.868437900Z"
    }
   },
   "id": "57105dc6e23c1277"
  },
  {
   "cell_type": "code",
   "execution_count": 18,
   "outputs": [],
   "source": [
    "## Right hand side\n",
    "\n",
    "def f(p: np.ndarray):\n",
    "    c = np.array([0.5, 0.5])\n",
    "    return 0 if np.linalg.norm(p - c) > 1e-1 else 1\n",
    "\n",
    "q = load_node(msh, f, 1)"
   ],
   "metadata": {
    "collapsed": false,
    "ExecuteTime": {
     "end_time": "2023-12-14T15:10:57.099761100Z",
     "start_time": "2023-12-14T15:10:57.033822400Z"
    }
   },
   "id": "fadfdb3442308778"
  },
  {
   "cell_type": "code",
   "execution_count": 19,
   "outputs": [],
   "source": [
    "## Build matrix\n",
    "\n",
    "M = mass_node(msh)\n",
    "K = stiffness_node(msh)"
   ],
   "metadata": {
    "collapsed": false,
    "ExecuteTime": {
     "end_time": "2023-12-14T15:10:57.192388300Z",
     "start_time": "2023-12-14T15:10:57.100761400Z"
    }
   },
   "id": "615bc0fcf9e7e891"
  },
  {
   "cell_type": "code",
   "execution_count": 22,
   "outputs": [
    {
     "data": {
      "text/plain": "(array([-5712.34625424, -5712.3463055 , -5712.34650801, -5712.34643459,\n        -5712.34596262, -5712.34557473, -5712.34524236, -5712.34511694,\n        -5712.34526384, -5712.34561211, -5712.3460114 , -5712.34601569,\n        -5712.3456277 , -5712.34529894, -5712.34519084, -5712.34538371,\n        -5712.34577557, -5712.34620268, -5712.34622985, -5712.34585882,\n        -5712.34551173, -5712.34535687, -5712.34547392, -5712.34578759,\n        -5712.34615272, -5712.34613278, -5712.34571098, -5712.34532714,\n        -5712.34515712, -5712.34527338, -5712.34559536, -5712.34596523,\n        -5712.34482326, -5712.34486067, -5712.34504677, -5712.34480014,\n        -5712.34511796, -5712.34515668, -5712.34540583, -5712.34511417,\n        -5712.34549055, -5712.3455973 , -5712.3457467 , -5712.34574759,\n        -5712.34513988, -5712.34423318, -5712.34392167, -5712.34255234,\n        -5712.34251249, -5712.33913563, -5712.34112426, -5712.33920879,\n        -5712.33913976, -5712.34133689, -5712.34272176, -5712.34262346,\n        -5712.34252459, -5712.34381352, -5712.34408668, -5712.34440832,\n        -5712.34445546, -5712.34421362, -5712.34422205, -5712.3435191 ,\n        -5712.3446798 , -5712.34369649, -5712.34488138, -5712.34486905,\n        -5712.34530081, -5712.34396896, -5712.34471746, -5712.34439517,\n        -5712.34533794, -5712.34481062, -5712.34506619, -5712.34421004,\n        -5712.34118549, -5712.34377629, -5712.34561006, -5712.34585481,\n        -5712.34569906, -5712.34554896, -5712.34508368, -5712.34507114,\n        -5712.34355959, -5712.34497463, -5712.34241945, -5712.34524351,\n        -5712.34588917, -5712.34594251, -5712.34607146, -5712.34614475,\n        -5712.34344052, -5712.34473525, -5712.34450683, -5712.3447746 ,\n        -5712.3452084 , -5712.34531365]),\n 980)"
     },
     "execution_count": 22,
     "metadata": {},
     "output_type": "execute_result"
    }
   ],
   "source": [
    "sp.linalg.gmres(K, q)"
   ],
   "metadata": {
    "collapsed": false,
    "ExecuteTime": {
     "end_time": "2023-12-14T15:11:17.044753400Z",
     "start_time": "2023-12-14T15:11:16.640165700Z"
    }
   },
   "id": "69038a59a4578fa7"
  },
  {
   "cell_type": "code",
   "execution_count": null,
   "outputs": [],
   "source": [],
   "metadata": {
    "collapsed": false
   },
   "id": "ebd907bbdfd966a5"
  }
 ],
 "metadata": {
  "kernelspec": {
   "display_name": "Python 3",
   "language": "python",
   "name": "python3"
  },
  "language_info": {
   "codemirror_mode": {
    "name": "ipython",
    "version": 2
   },
   "file_extension": ".py",
   "mimetype": "text/x-python",
   "name": "python",
   "nbconvert_exporter": "python",
   "pygments_lexer": "ipython2",
   "version": "2.7.6"
  }
 },
 "nbformat": 4,
 "nbformat_minor": 5
}
